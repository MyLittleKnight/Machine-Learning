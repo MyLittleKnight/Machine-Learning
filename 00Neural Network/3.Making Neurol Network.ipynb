{
 "cells": [
  {
   "cell_type": "code",
   "execution_count": 64,
   "metadata": {},
   "outputs": [],
   "source": [
    "from matplotlib import pyplot as plt\n",
    "import numpy as np"
   ]
  },
  {
   "cell_type": "markdown",
   "metadata": {},
   "source": [
    "<img src=\"dataset.png\">"
   ]
  },
  {
   "cell_type": "code",
   "execution_count": 108,
   "metadata": {},
   "outputs": [],
   "source": [
    "#Dataseti oluşturalım length witdh ve mavi veya kırmızı değerlerini alacak\n",
    "data = [\n",
    "        [3,    1.5 , 1],\n",
    "        [2,    1   , 0],\n",
    "        [4,    1.5 , 1],\n",
    "        [3,    1   , 0],\n",
    "        [3.5,  .5  , 1],\n",
    "        [2,    0.5 , 0],\n",
    "        [5.5,  1   , 1],\n",
    "        [1,    1   , 0],\n",
    "       ]\n"
   ]
  },
  {
   "cell_type": "code",
   "execution_count": 109,
   "metadata": {},
   "outputs": [],
   "source": [
    "def sigmoid(z):\n",
    "    return 1/(1+np.exp(-z))#exp(-z) ifadesi e üzeri -z anlamındadır\n",
    "\n",
    "def sigmoid_p(z):\n",
    "    return sigmoid(z) * (1-sigmoid(z))"
   ]
  },
  {
   "cell_type": "code",
   "execution_count": 110,
   "metadata": {},
   "outputs": [],
   "source": [
    "def rand():\n",
    "    w1 = np.random.randn()\n",
    "    w2 = np.random.randn()\n",
    "    b = np.random.randn()\n",
    "    return w1,w2,b"
   ]
  },
  {
   "cell_type": "code",
   "execution_count": 111,
   "metadata": {},
   "outputs": [],
   "source": [
    "w1,w2,b = rand()"
   ]
  },
  {
   "cell_type": "code",
   "execution_count": 119,
   "metadata": {},
   "outputs": [
    {
     "data": {
      "image/png": "[encoded data removed]",
      "text/plain": [
       "<Figure size 432x288 with 1 Axes>"
      ]
     },
     "metadata": {},
     "output_type": "display_data"
    }
   ],
   "source": [
    "def vis():    \n",
    "    #bilinmeyen değere x dedim\n",
    "    x = [4.5,1]\n",
    "    plt.grid()\n",
    "    for l,w,c in data:\n",
    "        color = 'r'\n",
    "        if c is 0 :\n",
    "            color = 'b'\n",
    "        plt.scatter(l,w,c=color)\n",
    "    #bilinmeyen\n",
    "    plt.scatter([x[0]], [x[1]], c='gray')\n",
    "vis()"
   ]
  },
  {
   "cell_type": "code",
   "execution_count": 113,
   "metadata": {},
   "outputs": [
    {
     "name": "stdout",
     "output_type": "stream",
     "text": [
      "0.012557049506310747\n",
      "[3, 1.5, 1]\n",
      "0.7687533543865683\n",
      "[2, 1, 0]\n",
      "0.016224792397079045\n",
      "[4, 1.5, 1]\n",
      "0.7950677551684042\n",
      "[1, 1, 0]\n",
      "0.035926722607193914\n",
      "[5.5, 1, 1]\n",
      "0.7950677551684042\n",
      "[1, 1, 0]\n",
      "0.035926722607193914\n",
      "[5.5, 1, 1]\n",
      "0.035926722607193914\n",
      "[5.5, 1, 1]\n",
      "0.03377414439039757\n",
      "[3.5, 0.5, 1]\n",
      "0.73991408823343\n",
      "[3, 1, 0]\n",
      "0.012557049506310747\n",
      "[3, 1.5, 1]\n",
      "0.012557049506310747\n",
      "[3, 1.5, 1]\n",
      "0.012557049506310747\n",
      "[3, 1.5, 1]\n",
      "0.73991408823343\n",
      "[3, 1, 0]\n",
      "0.7950677551684042\n",
      "[1, 1, 0]\n",
      "0.7687533543865683\n",
      "[2, 1, 0]\n",
      "0.035926722607193914\n",
      "[5.5, 1, 1]\n",
      "0.7687533543865683\n",
      "[2, 1, 0]\n",
      "0.7950677551684042\n",
      "[1, 1, 0]\n",
      "0.03377414439039757\n",
      "[3.5, 0.5, 1]\n",
      "0.03377414439039757\n",
      "[3.5, 0.5, 1]\n",
      "0.012557049506310747\n",
      "[3, 1.5, 1]\n",
      "0.7950677551684042\n",
      "[1, 1, 0]\n",
      "0.016224792397079045\n",
      "[4, 1.5, 1]\n",
      "0.016224792397079045\n",
      "[4, 1.5, 1]\n",
      "0.035926722607193914\n",
      "[5.5, 1, 1]\n",
      "0.012557049506310747\n",
      "[3, 1.5, 1]\n",
      "0.035926722607193914\n",
      "[5.5, 1, 1]\n",
      "0.03377414439039757\n",
      "[3.5, 0.5, 1]\n",
      "0.012557049506310747\n",
      "[3, 1.5, 1]\n",
      "0.73991408823343\n",
      "[3, 1, 0]\n",
      "0.7687533543865683\n",
      "[2, 1, 0]\n",
      "0.012557049506310747\n",
      "[3, 1.5, 1]\n",
      "0.73991408823343\n",
      "[3, 1, 0]\n",
      "0.7950677551684042\n",
      "[1, 1, 0]\n",
      "0.016224792397079045\n",
      "[4, 1.5, 1]\n",
      "0.7687533543865683\n",
      "[2, 1, 0]\n",
      "0.7169687511033678\n",
      "[2, 0.5, 0]\n",
      "0.012557049506310747\n",
      "[3, 1.5, 1]\n",
      "0.03377414439039757\n",
      "[3.5, 0.5, 1]\n",
      "0.7169687511033678\n",
      "[2, 0.5, 0]\n",
      "0.7169687511033678\n",
      "[2, 0.5, 0]\n",
      "0.03377414439039757\n",
      "[3.5, 0.5, 1]\n",
      "0.03377414439039757\n",
      "[3.5, 0.5, 1]\n",
      "0.035926722607193914\n",
      "[5.5, 1, 1]\n",
      "0.035926722607193914\n",
      "[5.5, 1, 1]\n",
      "0.7950677551684042\n",
      "[1, 1, 0]\n",
      "0.03377414439039757\n",
      "[3.5, 0.5, 1]\n",
      "0.73991408823343\n",
      "[3, 1, 0]\n",
      "0.012557049506310747\n",
      "[3, 1.5, 1]\n"
     ]
    }
   ],
   "source": [
    "for i in range(50):\n",
    "    ri = np.random.randint(len(data))#ri ile data içinden rastgele sayı çekeceğim\n",
    "    points = data[ri]\n",
    "    \n",
    "    z = w1*points[0] + w2*points[1] + b\n",
    "    predicted = sigmoid(z)\n",
    "    target = points[2]\n",
    "    cost = np.square(target - predicted) \n",
    "    \n",
    "    print(str(cost) + '\\n' + str(points))"
   ]
  },
  {
   "cell_type": "markdown",
   "metadata": {},
   "source": [
    "## Aşşağıdaki diagramı kullanarak işlem yaptıkdan sonra yukarıdan aşşağı türevleri bulucağız"
   ]
  },
  {
   "cell_type": "markdown",
   "metadata": {},
   "source": [
    "<img src=\"datadiag.png\">"
   ]
  },
  {
   "cell_type": "code",
   "execution_count": 122,
   "metadata": {},
   "outputs": [
    {
     "data": {
      "text/plain": [
       "[<matplotlib.lines.Line2D at 0x7f3df49fcb00>]"
      ]
     },
     "execution_count": 122,
     "metadata": {},
     "output_type": "execute_result"
    },
    {
     "data": {
      "image/png": "[encoded data removed]",
      "text/plain": [
       "<Figure size 432x288 with 1 Axes>"
      ]
     },
     "metadata": {},
     "output_type": "display_data"
    }
   ],
   "source": [
    "iterations = 10000\n",
    "learning_rate = 0.1\n",
    "costs = [] # keep costs during training, see if they go down\n",
    "w1,w2,b = rand()\n",
    "\n",
    "for i in range(iterations):\n",
    "    # get a random point\n",
    "    ri = np.random.randint(len(data))\n",
    "    point = data[ri]\n",
    "        \n",
    "    z = point[0] * w1 + point[1] * w2 + b\n",
    "    pred = sigmoid(z) # networks prediction\n",
    "        \n",
    "    target = point[2]\n",
    "        \n",
    "    # cost for current random point\n",
    "    cost = np.square(pred - target)\n",
    "    \n",
    "    # costu binde bir bastırırız(cost değeri tüm data değerlerinin toplamı şeklidedir)\n",
    "    if i % 100 == 0:\n",
    "        c = 0\n",
    "        for j in range(len(data)):\n",
    "            p = data[j]\n",
    "            p_pred = sigmoid(w1 * p[0] + w2 * p[1] + b)\n",
    "            c += np.square(p_pred - p[2])\n",
    "        costs.append(c)\n",
    "    \n",
    "    dcost_dpred = 2 * (pred - target)\n",
    "    dpred_dz = sigmoid_p(z)\n",
    "        \n",
    "    dz_dw1 = point[0]\n",
    "    dz_dw2 = point[1]\n",
    "    dz_db = 1\n",
    "        \n",
    "    dcost_dz = dcost_dpred * dpred_dz\n",
    "        \n",
    "    dcost_dw1 = dcost_dz * dz_dw1\n",
    "    dcost_dw2 = dcost_dz * dz_dw2\n",
    "    dcost_db = dcost_dz * dz_db\n",
    "        \n",
    "    w1 = w1 - learning_rate * dcost_dw1\n",
    "    w2 = w2 - learning_rate * dcost_dw2\n",
    "    b = b - learning_rate * dcost_db\n",
    "    \n",
    "plt.plot(costs)"
   ]
  },
  {
   "cell_type": "code",
   "execution_count": 123,
   "metadata": {},
   "outputs": [
    {
     "data": {
      "image/png": "[encoded data removed]",
      "text/plain": [
       "<Figure size 432x288 with 1 Axes>"
      ]
     },
     "metadata": {},
     "output_type": "display_data"
    }
   ],
   "source": [
    "# check out the networks predictions in the x,y plane\n",
    "for x in np.linspace(0, 6, 20):\n",
    "    for y in np.linspace(0, 3, 20):\n",
    "        pred = sigmoid(w1 * x + w2 * y + b)\n",
    "        c = 'b'\n",
    "        if pred > .5:\n",
    "            c = 'r'\n",
    "        plt.scatter([x],[y],c=c, alpha=.2)#sonuçları soluk göstermek için alpha var\n",
    "        \n",
    "# plot points over network predictions\n",
    "# you should see a split, with half the predictions blue\n",
    "# and the other half red.. nicely predicting each data point!\n",
    "#bilinmeyen değere x dedim\n",
    "vis()"
   ]
  },
  {
   "cell_type": "markdown",
   "metadata": {},
   "source": [
    "Görüldüğü gibi bilinmeyen noktamız kırmızı alan içerisindedir"
   ]
  },
  {
   "cell_type": "code",
   "execution_count": null,
   "metadata": {},
   "outputs": [],
   "source": []
  }
 ],
 "metadata": {
  "kernelspec": {
   "display_name": "Python 3",
   "language": "python",
   "name": "python3"
  },
  "language_info": {
   "codemirror_mode": {
    "name": "ipython",
    "version": 3
   },
   "file_extension": ".py",
   "mimetype": "text/x-python",
   "name": "python",
   "nbconvert_exporter": "python",
   "pygments_lexer": "ipython3",
   "version": "3.6.5"
  }
 },
 "nbformat": 4,
 "nbformat_minor": 2
}
