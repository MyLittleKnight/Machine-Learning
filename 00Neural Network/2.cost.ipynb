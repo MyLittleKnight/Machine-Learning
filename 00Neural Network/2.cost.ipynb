{
 "cells": [
  {
   "cell_type": "code",
   "execution_count": 1,
   "metadata": {},
   "outputs": [],
   "source": [
    "import numpy as np"
   ]
  },
  {
   "cell_type": "code",
   "execution_count": 2,
   "metadata": {},
   "outputs": [],
   "source": [
    "def cost(b):\n",
    "    return(b-4)**2 #sonuç olarak output olarak 4 döndüğünü farz edelim"
   ]
  },
  {
   "cell_type": "code",
   "execution_count": 25,
   "metadata": {},
   "outputs": [],
   "source": [
    "def num_slope(b):\n",
    "    h=0.001\n",
    "    slope = (cost(b+h)-cost(b))/h\n",
    "    return slope"
   ]
  },
  {
   "cell_type": "code",
   "execution_count": 27,
   "metadata": {},
   "outputs": [],
   "source": [
    "def calc_slope(b):\n",
    "    return 2*(b-4)"
   ]
  },
  {
   "cell_type": "markdown",
   "metadata": {},
   "source": [
    "### Cost fonksiyonu alt değeri 4 olacak şekilde parabolü ifade eder eğer 4 ün altında b değeri alırsa slope negatif yüksek alırsa slop pozitif değer alacaktır."
   ]
  },
  {
   "cell_type": "code",
   "execution_count": 28,
   "metadata": {},
   "outputs": [
    {
     "name": "stdout",
     "output_type": "stream",
     "text": [
      "-1.998999999999751 2.0010000000005856\n",
      "-2 2\n"
     ]
    }
   ],
   "source": [
    "print(num_slope(3) ,num_slope(5))\n",
    "print(calc_slope(3) ,calc_slope(5))"
   ]
  },
  {
   "cell_type": "markdown",
   "metadata": {},
   "source": [
    "İterasyon methodu ile b değerine yaklaşmayı deneyeceğiz \n",
    "### b = b-1*slope(b)"
   ]
  },
  {
   "cell_type": "code",
   "execution_count": 33,
   "metadata": {},
   "outputs": [
    {
     "name": "stdout",
     "output_type": "stream",
     "text": [
      "6.4\n",
      "5.92\n",
      "5.536\n",
      "5.2288\n",
      "4.98304\n",
      "4.786432\n",
      "4.629145599999999\n",
      "4.50331648\n",
      "4.402653184\n",
      "4.3221225472\n",
      "4.25769803776\n",
      "4.206158430208\n",
      "4.1649267441664\n",
      "4.13194139533312\n",
      "4.105553116266496\n",
      "4.0844424930131975\n",
      "4.067553994410558\n",
      "4.054043195528446\n",
      "4.043234556422757\n",
      "4.034587645138205\n",
      "4.027670116110564\n",
      "4.022136092888451\n",
      "4.017708874310761\n",
      "4.014167099448609\n",
      "4.011333679558887\n",
      "4.00906694364711\n",
      "4.007253554917687\n",
      "4.00580284393415\n",
      "4.0046422751473205\n",
      "4.003713820117857\n",
      "4.002971056094285\n",
      "4.002376844875428\n",
      "4.001901475900342\n",
      "4.001521180720274\n",
      "4.001216944576219\n",
      "4.000973555660975\n",
      "4.00077884452878\n",
      "4.000623075623023\n",
      "4.000498460498418\n",
      "4.0003987683987345\n",
      "4.000319014718988\n",
      "4.00025521177519\n",
      "4.000204169420153\n",
      "4.000163335536122\n",
      "4.0001306684288975\n",
      "4.000104534743118\n",
      "4.000083627794494\n",
      "4.000066902235595\n",
      "4.000053521788476\n",
      "4.0000428174307805\n",
      "4.000034253944625\n",
      "4.0000274031557\n",
      "4.00002192252456\n",
      "4.000017538019648\n",
      "4.000014030415718\n",
      "4.0000112243325745\n",
      "4.00000897946606\n",
      "4.000007183572848\n",
      "4.000005746858278\n",
      "4.0000045974866225\n",
      "4.000003677989298\n",
      "4.000002942391438\n",
      "4.000002353913151\n",
      "4.000001883130521\n",
      "4.000001506504416\n",
      "4.000001205203533\n",
      "4.000000964162827\n",
      "4.000000771330262\n",
      "4.0000006170642095\n",
      "4.000000493651368\n",
      "4.000000394921094\n",
      "4.000000315936875\n",
      "4.0000002527494996\n",
      "4.000000202199599\n",
      "4.000000161759679\n",
      "4.000000129407743\n",
      "4.000000103526195\n",
      "4.000000082820955\n",
      "4.0000000662567645\n",
      "4.000000053005412\n",
      "4.000000042404329\n",
      "4.000000033923463\n",
      "4.00000002713877\n",
      "4.000000021711016\n",
      "4.000000017368813\n",
      "4.00000001389505\n",
      "4.0000000111160405\n",
      "4.000000008892832\n",
      "4.000000007114266\n",
      "4.000000005691413\n",
      "4.00000000455313\n",
      "4.000000003642504\n",
      "4.000000002914003\n",
      "4.000000002331203\n",
      "4.000000001864962\n",
      "4.00000000149197\n",
      "4.000000001193576\n",
      "4.000000000954861\n",
      "4.0000000007638885\n",
      "4.000000000611111\n"
     ]
    }
   ],
   "source": [
    "b = 7 #rastgele atılmış bir değer\n",
    "for i in range(100):\n",
    "    b = b- 0.1*calc_slope(b)\n",
    "    print (b)"
   ]
  },
  {
   "cell_type": "markdown",
   "metadata": {},
   "source": [
    "Yukarıdaki örnektede görebileceğiniz gibi 4 değerine git gide yaklaşıyoruz."
   ]
  },
  {
   "cell_type": "code",
   "execution_count": null,
   "metadata": {},
   "outputs": [],
   "source": []
  }
 ],
 "metadata": {
  "kernelspec": {
   "display_name": "Python 3",
   "language": "python",
   "name": "python3"
  },
  "language_info": {
   "codemirror_mode": {
    "name": "ipython",
    "version": 3
   },
   "file_extension": ".py",
   "mimetype": "text/x-python",
   "name": "python",
   "nbconvert_exporter": "python",
   "pygments_lexer": "ipython3",
   "version": "3.6.5"
  }
 },
 "nbformat": 4,
 "nbformat_minor": 2
}
